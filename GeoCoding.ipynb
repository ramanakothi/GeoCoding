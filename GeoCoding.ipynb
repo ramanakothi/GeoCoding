{
 "cells": [
  {
   "cell_type": "markdown",
   "metadata": {},
   "source": [
    "# Get Latitude and Longitude for a given address"
   ]
  },
  {
   "cell_type": "markdown",
   "metadata": {},
   "source": [
    "### 1. Install docker (https://hub.docker.com/editions/community/docker-ce-desktop-mac )"
   ]
  },
  {
   "cell_type": "code",
   "execution_count": 1,
   "metadata": {},
   "outputs": [],
   "source": [
    "import pandas as pd\n",
    "\n",
    "bartstations = pd.read_csv('bartstations.csv')"
   ]
  },
  {
   "cell_type": "code",
   "execution_count": 2,
   "metadata": {},
   "outputs": [
    {
     "data": {
      "text/html": [
       "<div>\n",
       "<style scoped>\n",
       "    .dataframe tbody tr th:only-of-type {\n",
       "        vertical-align: middle;\n",
       "    }\n",
       "\n",
       "    .dataframe tbody tr th {\n",
       "        vertical-align: top;\n",
       "    }\n",
       "\n",
       "    .dataframe thead th {\n",
       "        text-align: right;\n",
       "    }\n",
       "</style>\n",
       "<table border=\"1\" class=\"dataframe\">\n",
       "  <thead>\n",
       "    <tr style=\"text-align: right;\">\n",
       "      <th></th>\n",
       "      <th>address</th>\n",
       "      <th>station_name</th>\n",
       "    </tr>\n",
       "  </thead>\n",
       "  <tbody>\n",
       "    <tr>\n",
       "      <th>0</th>\n",
       "      <td>1245 Broadway, Oakland, CA 94612</td>\n",
       "      <td>12th St. Oakland City Center</td>\n",
       "    </tr>\n",
       "    <tr>\n",
       "      <th>1</th>\n",
       "      <td>2000 Mission Street, San Francisco, CA 94110</td>\n",
       "      <td>16th St. Mission (SF)</td>\n",
       "    </tr>\n",
       "    <tr>\n",
       "      <th>2</th>\n",
       "      <td>1900 Broadway, Oakland, CA 94612</td>\n",
       "      <td>19th St. Oakland</td>\n",
       "    </tr>\n",
       "    <tr>\n",
       "      <th>3</th>\n",
       "      <td>2800 Mission Street, San Francisco, CA 94110</td>\n",
       "      <td>24th St. Mission (SF)</td>\n",
       "    </tr>\n",
       "    <tr>\n",
       "      <th>4</th>\n",
       "      <td>3100 Adeline Street, Berkeley, CA 94703</td>\n",
       "      <td>Ashby (Berkeley)</td>\n",
       "    </tr>\n",
       "  </tbody>\n",
       "</table>\n",
       "</div>"
      ],
      "text/plain": [
       "                                        address                  station_name\n",
       "0              1245 Broadway, Oakland, CA 94612  12th St. Oakland City Center\n",
       "1  2000 Mission Street, San Francisco, CA 94110         16th St. Mission (SF)\n",
       "2              1900 Broadway, Oakland, CA 94612              19th St. Oakland\n",
       "3  2800 Mission Street, San Francisco, CA 94110         24th St. Mission (SF)\n",
       "4       3100 Adeline Street, Berkeley, CA 94703              Ashby (Berkeley)"
      ]
     },
     "execution_count": 2,
     "metadata": {},
     "output_type": "execute_result"
    }
   ],
   "source": [
    "bartstations.head()"
   ]
  },
  {
   "cell_type": "markdown",
   "metadata": {},
   "source": [
    "### 2. You can process the file which require geocoding. Docker image will be downloaded for the first time and you can continue using it.\n",
    "\n",
    "References https://hub.docker.com/r/degauss/dist_to_major_roadway/"
   ]
  },
  {
   "cell_type": "code",
   "execution_count": 3,
   "metadata": {},
   "outputs": [
    {
     "name": "stdout",
     "output_type": "stream",
     "text": [
      "Process is interrupted.\n"
     ]
    }
   ],
   "source": [
    "%%bash\n",
    "\n",
    "docker run --rm=TRUE -v \"$PWD\":/tmp degauss/geocoder bartstations.csv address"
   ]
  },
  {
   "cell_type": "code",
   "execution_count": 80,
   "metadata": {},
   "outputs": [],
   "source": [
    "df = pd.read_csv('bartstations_geocoded.csv')"
   ]
  },
  {
   "cell_type": "code",
   "execution_count": 82,
   "metadata": {},
   "outputs": [
    {
     "data": {
      "text/html": [
       "<div>\n",
       "<style scoped>\n",
       "    .dataframe tbody tr th:only-of-type {\n",
       "        vertical-align: middle;\n",
       "    }\n",
       "\n",
       "    .dataframe tbody tr th {\n",
       "        vertical-align: top;\n",
       "    }\n",
       "\n",
       "    .dataframe thead th {\n",
       "        text-align: right;\n",
       "    }\n",
       "</style>\n",
       "<table border=\"1\" class=\"dataframe\">\n",
       "  <thead>\n",
       "    <tr style=\"text-align: right;\">\n",
       "      <th></th>\n",
       "      <th>address</th>\n",
       "      <th>lat</th>\n",
       "      <th>lon</th>\n",
       "    </tr>\n",
       "  </thead>\n",
       "  <tbody>\n",
       "    <tr>\n",
       "      <th>0</th>\n",
       "      <td>10 Union Square, Union City, CA 94587</td>\n",
       "      <td>37.586275</td>\n",
       "      <td>-122.017320</td>\n",
       "    </tr>\n",
       "    <tr>\n",
       "      <th>1</th>\n",
       "      <td>11 Camino Pablo, Orinda, CA 94563</td>\n",
       "      <td>37.877681</td>\n",
       "      <td>-122.181858</td>\n",
       "    </tr>\n",
       "    <tr>\n",
       "      <th>2</th>\n",
       "      <td>1150 Market Street, San Francisco, CA 94102</td>\n",
       "      <td>37.779522</td>\n",
       "      <td>-122.413811</td>\n",
       "    </tr>\n",
       "    <tr>\n",
       "      <th>3</th>\n",
       "      <td>1151 Huntington Avenue, San Bruno, CA 94066</td>\n",
       "      <td>37.638560</td>\n",
       "      <td>-122.416501</td>\n",
       "    </tr>\n",
       "    <tr>\n",
       "      <th>4</th>\n",
       "      <td>1245 Broadway, Oakland, CA 94612</td>\n",
       "      <td>37.803316</td>\n",
       "      <td>-122.272008</td>\n",
       "    </tr>\n",
       "  </tbody>\n",
       "</table>\n",
       "</div>"
      ],
      "text/plain": [
       "                                       address        lat         lon\n",
       "0        10 Union Square, Union City, CA 94587  37.586275 -122.017320\n",
       "1            11 Camino Pablo, Orinda, CA 94563  37.877681 -122.181858\n",
       "2  1150 Market Street, San Francisco, CA 94102  37.779522 -122.413811\n",
       "3  1151 Huntington Avenue, San Bruno, CA 94066  37.638560 -122.416501\n",
       "4             1245 Broadway, Oakland, CA 94612  37.803316 -122.272008"
      ]
     },
     "execution_count": 82,
     "metadata": {},
     "output_type": "execute_result"
    }
   ],
   "source": [
    "df[['address','lat','lon']].head()"
   ]
  },
  {
   "cell_type": "markdown",
   "metadata": {},
   "source": [
    "# Another method to perform the same geocoding.\n",
    "\n",
    "#### Using DataScienceToolKit to analyze latitude and longitude in python.\n",
    "\n",
    "#### Setup instructions are for Mac, may work for other OS too.\n",
    "\n",
    "####  1.\tDownload and install Oracle VirtualBox (https://www.virtualbox.org/)\n",
    "\n",
    "####  2.\tDownload and install Vagrant (http://www.vagrantup.com/)\n",
    "\n",
    "####  3.\tDownload  dstk_0.51.box(https://goo.gl/XPiaza)  VM its 22G file be patient If you encounter issues refer to link (https://github.com/petewarden/dstk/issues/57)\n",
    "\n",
    "#### 4.\tSetup python 2.7 virtual environment. (https://uoa-eresearch.github.io/eresearch-cookbook/recipe/2014/11/20/conda/)\n",
    "\n",
    "#### 5. Bring up the VM and start using downloaded file. Instructions are at this page(http://www.datasciencetoolkit.org/developerdocs#vagrant)\n",
    "\n",
    "    vagrant box add dstk dstk_0.51.box  \n",
    "    vagrant init\n",
    "    vagrant up\n",
    "    Access the application from http://localhost:8080 or vagrant ssh\n",
    "\n",
    "#### 6.\tDownload and Install python library dstk\n",
    "    python setup.py build \n",
    "    python setup.py install\n",
    "\n",
    "#### 7.\tStart accessing the dstk from the python.\n",
    "\n",
    "References\n",
    "https://github.com/dlab-geo/geocoding-workshop-sp2015/blob/master/intro-geocoding.ipynb\n",
    "\n",
    "# Warning: \n",
    "## After installation I had noticied the VirtualBox was trying to access photos & contacts, Disabled the VM, not sure if there are any security issues."
   ]
  },
  {
   "cell_type": "code",
   "execution_count": 4,
   "metadata": {},
   "outputs": [],
   "source": [
    "import dstk\n",
    "dstk = dstk.DSTK()\n",
    "dstk.street2coordinates('2543 Graystone Place, Simi Valley, CA 93065')\n",
    "import json\n",
    "import requests\n",
    "import pandas as pd\n",
    "from pprint import pprint"
   ]
  },
  {
   "cell_type": "code",
   "execution_count": 2,
   "metadata": {},
   "outputs": [],
   "source": [
    "def single_address(address, api='dstk'):\n",
    "    # API check\n",
    "    assert api in ('dstk','google')\n",
    "    \n",
    "    # Type check\n",
    "    assert type(address) == str\n",
    "    \n",
    "    # /street2coordinates\n",
    "    dstk_dstk = 'http://localhost:8080/street2coordinates/'\n",
    "    \n",
    "    # Google-style\n",
    "    dstk_google = 'http://localhost:8080/maps/api/geocode/json?sensor=false&address='\n",
    "    \n",
    "    # API\n",
    "    if api == 'dstk':\n",
    "        url_prefix = dstk_dstk\n",
    "    elif api == 'google':\n",
    "        url_prefix = dstk_google\n",
    "    \n",
    "    # URL\n",
    "    url = url_prefix + address.replace(' ', '+')\n",
    "    \n",
    "    # Response\n",
    "    response = requests.get(url)\n",
    "    return json.loads(response.text)"
   ]
  },
  {
   "cell_type": "code",
   "execution_count": 5,
   "metadata": {},
   "outputs": [
    {
     "name": "stdout",
     "output_type": "stream",
     "text": [
      "{u'1600 Amphitheatre Pkwy, Mountain View, CA': {u'confidence': 0.902,\n",
      "                                                u'country_code': u'US',\n",
      "                                                u'country_code3': u'USA',\n",
      "                                                u'country_name': u'United States',\n",
      "                                                u'fips_county': u'06085',\n",
      "                                                u'latitude': 37.423471,\n",
      "                                                u'locality': u'Mountain View',\n",
      "                                                u'longitude': -122.086546,\n",
      "                                                u'region': u'CA',\n",
      "                                                u'street_address': u'1600 Amphitheatre Pkwy',\n",
      "                                                u'street_name': u'Amphitheatre Pkwy',\n",
      "                                                u'street_number': u'1600'}}\n"
     ]
    }
   ],
   "source": [
    "google_hq = single_address('1600 Amphitheatre Pkwy, Mountain View, CA')\n",
    "pprint(google_hq)"
   ]
  },
  {
   "cell_type": "code",
   "execution_count": 6,
   "metadata": {},
   "outputs": [
    {
     "name": "stdout",
     "output_type": "stream",
     "text": [
      "{u'results': [{u'address_components': [{u'long_name': u'1600',\n",
      "                                        u'short_name': u'1600',\n",
      "                                        u'types': [u'street_number']},\n",
      "                                       {u'long_name': u'Amphitheatre Pkwy',\n",
      "                                        u'short_name': u'Amphitheatre Pkwy',\n",
      "                                        u'types': [u'route']},\n",
      "                                       {u'long_name': u'Mountain View',\n",
      "                                        u'short_name': u'Mountain View',\n",
      "                                        u'types': [u'locality',\n",
      "                                                   u'political']},\n",
      "                                       {u'long_name': u'CA',\n",
      "                                        u'short_name': u'CA',\n",
      "                                        u'types': [u'administrative_area_level_1',\n",
      "                                                   u'political']},\n",
      "                                       {u'long_name': u'United States',\n",
      "                                        u'short_name': u'US',\n",
      "                                        u'types': [u'country',\n",
      "                                                   u'political']}],\n",
      "               u'formatted_address': u'1600 Amphitheatre Pkwy, Mountain View, CA',\n",
      "               u'geometry': {u'location': {u'lat': 37.423471,\n",
      "                                           u'lng': -122.086546},\n",
      "                             u'location_type': u'ROOFTOP',\n",
      "                             u'viewport': {u'northeast': {u'lat': 37.424471,\n",
      "                                                          u'lng': -122.085546},\n",
      "                                           u'southwest': {u'lat': 37.422471,\n",
      "                                                          u'lng': -122.087546}}},\n",
      "               u'types': [u'street_address']}],\n",
      " u'status': u'OK'}\n"
     ]
    }
   ],
   "source": [
    "google = single_address('1600 Amphitheatre Pkwy, Mountain View, CA', 'google')\n",
    "pprint(google)"
   ]
  },
  {
   "cell_type": "code",
   "execution_count": 7,
   "metadata": {},
   "outputs": [
    {
     "name": "stdout",
     "output_type": "stream",
     "text": [
      "{\n",
      "  \"1600 Amphitheatre Pkwy, Mountain View, CA\": {\n",
      "    \"country_code3\": \"USA\",\n",
      "    \"latitude\": 37.423471,\n",
      "    \"country_name\": \"United States\",\n",
      "    \"longitude\": -122.086546,\n",
      "    \"street_address\": \"1600 Amphitheatre Pkwy\",\n",
      "    \"region\": \"CA\",\n",
      "    \"confidence\": 0.902,\n",
      "    \"street_number\": \"1600\",\n",
      "    \"locality\": \"Mountain View\",\n",
      "    \"street_name\": \"Amphitheatre Pkwy\",\n",
      "    \"fips_county\": \"06085\",\n",
      "    \"country_code\": \"US\"\n",
      "  }\n",
      "}"
     ]
    },
    {
     "name": "stderr",
     "output_type": "stream",
     "text": [
      "  % Total    % Received % Xferd  Average Speed   Time    Time     Time  Current\n",
      "                                 Dload  Upload   Total   Spent    Left  Speed\n",
      "\r",
      "  0     0    0     0    0     0      0      0 --:--:-- --:--:-- --:--:--     0\r",
      "100   467  100   426  100    41  42600   4100 --:--:-- --:--:-- --:--:-- 51888\n"
     ]
    }
   ],
   "source": [
    "%%bash\n",
    "\n",
    "curl -d \"1600 Amphitheatre Pkwy, Mountain View, CA\" \\\n",
    "     http://localhost:8080/street2coordinates"
   ]
  },
  {
   "cell_type": "code",
   "execution_count": 11,
   "metadata": {},
   "outputs": [
    {
     "name": "stderr",
     "output_type": "stream",
     "text": [
      "  % Total    % Received % Xferd  Average Speed   Time    Time     Time  Current\n",
      "                                 Dload  Upload   Total   Spent    Left  Speed\n",
      "\r",
      "  0     0    0     0    0     0      0      0 --:--:-- --:--:-- --:--:--     0\r",
      "100   423  100   391  100    32   6109    500 --:--:-- --:--:-- --:--:--  6609\n"
     ]
    }
   ],
   "source": [
    "%%bash\n",
    "curl -o coordinates.json -d \"1245 Broadway, Oakland, CA 94612\" \\\n",
    "http://localhost:8080/street2coordinates"
   ]
  },
  {
   "cell_type": "code",
   "execution_count": 17,
   "metadata": {},
   "outputs": [
    {
     "name": "stdout",
     "output_type": "stream",
     "text": [
      "{\n",
      "  \"200 Ygnacio Valley Road, Walnut Creek, CA 94596\": {\n",
      "    \"country_code3\": \"USA\",\n",
      "    \"latitude\": 37.904526,\n",
      "    \"country_name\": \"United States\",\n",
      "    \"longitude\": -122.068036,\n",
      "    \"street_address\": \"200 Ygnacio Valley Rd\",\n",
      "    \"region\": \"CA\",\n",
      "    \"confidence\": 0.902,\n",
      "    \"street_number\": \"200\",\n",
      "    \"locality\": \"Walnut Creek\",\n",
      "    \"street_name\": \"Ygnacio Valley Rd\",\n",
      "    \"fips_county\": \"06013\",\n",
      "    \"country_code\": \"US\"\n",
      "  },\n",
      "  \"1451 7th Street, Oakland, CA 94607\": {\n",
      "    \"country_code3\": \"USA\",\n",
      "    \"latitude\": 37.805352,\n",
      "    \"country_name\": \"United States\",\n",
      "    \"longitude\": -122.294959,\n",
      "    \"street_address\": \"1451 7th St\",\n",
      "    \"region\": \"CA\",\n",
      "    \"confidence\": 0.902,\n",
      "    \"street_number\": \"1451\",\n",
      "    \"locality\": \"Oakland\",\n",
      "    \"street_name\": \"7th St\",\n",
      "    \"fips_county\": \"06001\",\n",
      "    \"country_code\": \"US\"\n",
      "  },\n",
      "  \"1900 Broadway, Oakland, CA 94612\": {\n",
      "    \"country_code3\": \"USA\",\n",
      "    \"latitude\": 37.807795,\n",
      "    \"country_name\": \"United States\",\n",
      "    \"longitude\": -122.269113,\n",
      "    \"street_address\": \"1900 Broadway\",\n",
      "    \"region\": \"CA\",\n",
      "    \"confidence\": 1.0,\n",
      "    \"street_number\": \"1900\",\n",
      "    \"locality\": \"Oakland\",\n",
      "    \"street_name\": \"Broadway\",\n",
      "    \"fips_county\": \"06001\",\n",
      "    \"country_code\": \"US\"\n",
      "  },\n",
      "  \"6501 Golden Gate Drive, Dublin, CA 94568\": {\n",
      "    \"country_code3\": \"USA\",\n",
      "    \"latitude\": 37.702553,\n",
      "    \"country_name\": \"United States\",\n",
      "    \"longitude\": -121.928719,\n",
      "    \"street_address\": \"6501 Golden Gate Dr\",\n",
      "    \"region\": \"CA\",\n",
      "    \"confidence\": 0.878,\n",
      "    \"street_number\": \"6501\",\n",
      "    \"locality\": \"Dublin\",\n",
      "    \"street_name\": \"Golden Gate Dr\",\n",
      "    \"fips_county\": \"06001\",\n",
      "    \"country_code\": \"US\"\n",
      "  },\n",
      "  \"2800 Mission Street, San Francisco, CA 94110\": {\n",
      "    \"country_code3\": \"USA\",\n",
      "    \"latitude\": 37.752238,\n",
      "    \"country_name\": \"United States\",\n",
      "    \"longitude\": -122.418444,\n",
      "    \"street_address\": \"2800 Mission St\",\n",
      "    \"region\": \"CA\",\n",
      "    \"confidence\": 1.0,\n",
      "    \"street_number\": \"2800\",\n",
      "    \"locality\": \"San Francisco\",\n",
      "    \"street_name\": \"Mission St\",\n",
      "    \"fips_county\": \"06075\",\n",
      "    \"country_code\": \"US\"\n",
      "  },\n",
      "  \"1245 Broadway, Oakland, CA 94612\": {\n",
      "    \"country_code3\": \"USA\",\n",
      "    \"latitude\": 37.803316,\n",
      "    \"country_name\": \"United States\",\n",
      "    \"longitude\": -122.272008,\n",
      "    \"street_address\": \"1245 Broadway\",\n",
      "    \"region\": \"CA\",\n",
      "    \"confidence\": 1.0,\n",
      "    \"street_number\": \"1245\",\n",
      "    \"locality\": \"Oakland\",\n",
      "    \"street_name\": \"Broadway\",\n",
      "    \"fips_county\": \"06001\",\n",
      "    \"country_code\": \"US\"\n",
      "  },\n",
      "  \"10 Union Square, Union City, CA 94587\": {\n",
      "    \"country_code3\": \"USA\",\n",
      "    \"latitude\": 37.586275,\n",
      "    \"country_name\": \"United States\",\n",
      "    \"longitude\": -122.01732,\n",
      "    \"street_address\": \"10 Union Sq\",\n",
      "    \"region\": \"CA\",\n",
      "    \"confidence\": 1.0,\n",
      "    \"street_number\": \"10\",\n",
      "    \"locality\": \"Union City\",\n",
      "    \"street_name\": \"Union Sq\",\n",
      "    \"fips_county\": \"06001\",\n",
      "    \"country_code\": \"US\"\n",
      "  },\n",
      "  \"2000 Mission Street, San Francisco, CA 94110\": {\n",
      "    \"country_code3\": \"USA\",\n",
      "    \"latitude\": 37.765051,\n",
      "    \"country_name\": \"United States\",\n",
      "    \"longitude\": -122.419669,\n",
      "    \"street_address\": \"2000 Mission St\",\n",
      "    \"region\": \"CA\",\n",
      "    \"confidence\": 1.0,\n",
      "    \"street_number\": \"2000\",\n",
      "    \"locality\": \"San Francisco\",\n",
      "    \"street_name\": \"Mission St\",\n",
      "    \"fips_county\": \"06075\",\n",
      "    \"country_code\": \"US\"\n",
      "  }\n",
      "}"
     ]
    }
   ],
   "source": [
    "%%bash\n",
    "cat coordinates.json"
   ]
  },
  {
   "cell_type": "code",
   "execution_count": 59,
   "metadata": {},
   "outputs": [
    {
     "name": "stderr",
     "output_type": "stream",
     "text": [
      "  % Total    % Received % Xferd  Average Speed   Time    Time     Time  Current\n",
      "                                 Dload  Upload   Total   Spent    Left  Speed\n",
      "\r",
      "  0     0    0     0    0     0      0      0 --:--:-- --:--:-- --:--:--     0\r",
      " 37 20151   31  5642  100  1940   8522   2930  0:00:02 --:--:--  0:00:02 11435\r",
      "100 20151  100 18211  100  1940  27384   2917 --:--:-- --:--:-- --:--:-- 30256\n"
     ]
    }
   ],
   "source": [
    "%%bash\n",
    "curl -o coordinates.json -d @bartaddresses.txt \\\n",
    "http://localhost:8080/street2coordinates\n"
   ]
  },
  {
   "cell_type": "code",
   "execution_count": 60,
   "metadata": {},
   "outputs": [],
   "source": [
    "json_data = pd.read_json('coordinates.json').T"
   ]
  },
  {
   "cell_type": "code",
   "execution_count": 61,
   "metadata": {},
   "outputs": [],
   "source": [
    "json_data = json_data.reset_index()\n",
    "json_data = json_data.rename(columns = {'index':'address'})"
   ]
  },
  {
   "cell_type": "code",
   "execution_count": 62,
   "metadata": {},
   "outputs": [],
   "source": [
    "json_data['address'] = json_data['address'].str.lower()\n"
   ]
  },
  {
   "cell_type": "code",
   "execution_count": 83,
   "metadata": {},
   "outputs": [
    {
     "data": {
      "text/html": [
       "<div>\n",
       "<style scoped>\n",
       "    .dataframe tbody tr th:only-of-type {\n",
       "        vertical-align: middle;\n",
       "    }\n",
       "\n",
       "    .dataframe tbody tr th {\n",
       "        vertical-align: top;\n",
       "    }\n",
       "\n",
       "    .dataframe thead th {\n",
       "        text-align: right;\n",
       "    }\n",
       "</style>\n",
       "<table border=\"1\" class=\"dataframe\">\n",
       "  <thead>\n",
       "    <tr style=\"text-align: right;\">\n",
       "      <th></th>\n",
       "      <th>address</th>\n",
       "      <th>confidence</th>\n",
       "      <th>country_code</th>\n",
       "      <th>country_code3</th>\n",
       "      <th>country_name</th>\n",
       "      <th>fips_county</th>\n",
       "      <th>latitude</th>\n",
       "      <th>locality</th>\n",
       "      <th>longitude</th>\n",
       "      <th>region</th>\n",
       "      <th>street_address</th>\n",
       "      <th>street_name</th>\n",
       "      <th>street_number</th>\n",
       "    </tr>\n",
       "  </thead>\n",
       "  <tbody>\n",
       "    <tr>\n",
       "      <th>0</th>\n",
       "      <td>10 union square, union city, ca 94587</td>\n",
       "      <td>1</td>\n",
       "      <td>US</td>\n",
       "      <td>USA</td>\n",
       "      <td>United States</td>\n",
       "      <td>06001</td>\n",
       "      <td>37.5863</td>\n",
       "      <td>Union City</td>\n",
       "      <td>-122.017</td>\n",
       "      <td>CA</td>\n",
       "      <td>10 Union Sq</td>\n",
       "      <td>Union Sq</td>\n",
       "      <td>10</td>\n",
       "    </tr>\n",
       "    <tr>\n",
       "      <th>1</th>\n",
       "      <td>11 camino pablo, orinda, ca 94563</td>\n",
       "      <td>0.878</td>\n",
       "      <td>US</td>\n",
       "      <td>USA</td>\n",
       "      <td>United States</td>\n",
       "      <td>06013</td>\n",
       "      <td>37.8777</td>\n",
       "      <td>Orinda</td>\n",
       "      <td>-122.182</td>\n",
       "      <td>CA</td>\n",
       "      <td>11 Cam Pablo</td>\n",
       "      <td>Cam Pablo</td>\n",
       "      <td>11</td>\n",
       "    </tr>\n",
       "    <tr>\n",
       "      <th>2</th>\n",
       "      <td>1150 market street, san francisco, ca 94102</td>\n",
       "      <td>1</td>\n",
       "      <td>US</td>\n",
       "      <td>USA</td>\n",
       "      <td>United States</td>\n",
       "      <td>06075</td>\n",
       "      <td>37.7791</td>\n",
       "      <td>San Francisco</td>\n",
       "      <td>-122.414</td>\n",
       "      <td>CA</td>\n",
       "      <td>1150 Market St</td>\n",
       "      <td>Market St</td>\n",
       "      <td>1150</td>\n",
       "    </tr>\n",
       "    <tr>\n",
       "      <th>3</th>\n",
       "      <td>1151 huntington avenue, san bruno, ca 94066</td>\n",
       "      <td>1</td>\n",
       "      <td>US</td>\n",
       "      <td>USA</td>\n",
       "      <td>United States</td>\n",
       "      <td>06081</td>\n",
       "      <td>37.6386</td>\n",
       "      <td>San Bruno</td>\n",
       "      <td>-122.417</td>\n",
       "      <td>CA</td>\n",
       "      <td>1151 Huntington Ave</td>\n",
       "      <td>Huntington Ave</td>\n",
       "      <td>1151</td>\n",
       "    </tr>\n",
       "    <tr>\n",
       "      <th>4</th>\n",
       "      <td>1245 broadway, oakland, ca 94612</td>\n",
       "      <td>1</td>\n",
       "      <td>US</td>\n",
       "      <td>USA</td>\n",
       "      <td>United States</td>\n",
       "      <td>06001</td>\n",
       "      <td>37.8033</td>\n",
       "      <td>Oakland</td>\n",
       "      <td>-122.272</td>\n",
       "      <td>CA</td>\n",
       "      <td>1245 Broadway</td>\n",
       "      <td>Broadway</td>\n",
       "      <td>1245</td>\n",
       "    </tr>\n",
       "  </tbody>\n",
       "</table>\n",
       "</div>"
      ],
      "text/plain": [
       "                                       address confidence country_code  \\\n",
       "0        10 union square, union city, ca 94587          1           US   \n",
       "1            11 camino pablo, orinda, ca 94563      0.878           US   \n",
       "2  1150 market street, san francisco, ca 94102          1           US   \n",
       "3  1151 huntington avenue, san bruno, ca 94066          1           US   \n",
       "4             1245 broadway, oakland, ca 94612          1           US   \n",
       "\n",
       "  country_code3   country_name fips_county latitude       locality longitude  \\\n",
       "0           USA  United States       06001  37.5863     Union City  -122.017   \n",
       "1           USA  United States       06013  37.8777         Orinda  -122.182   \n",
       "2           USA  United States       06075  37.7791  San Francisco  -122.414   \n",
       "3           USA  United States       06081  37.6386      San Bruno  -122.417   \n",
       "4           USA  United States       06001  37.8033        Oakland  -122.272   \n",
       "\n",
       "  region       street_address     street_name street_number  \n",
       "0     CA          10 Union Sq        Union Sq            10  \n",
       "1     CA         11 Cam Pablo       Cam Pablo            11  \n",
       "2     CA       1150 Market St       Market St          1150  \n",
       "3     CA  1151 Huntington Ave  Huntington Ave          1151  \n",
       "4     CA        1245 Broadway        Broadway          1245  "
      ]
     },
     "execution_count": 83,
     "metadata": {},
     "output_type": "execute_result"
    }
   ],
   "source": [
    "json_data.head()"
   ]
  },
  {
   "cell_type": "code",
   "execution_count": 64,
   "metadata": {},
   "outputs": [],
   "source": [
    "stations = pd.read_csv('bartstations.csv')"
   ]
  },
  {
   "cell_type": "code",
   "execution_count": 65,
   "metadata": {},
   "outputs": [],
   "source": [
    "stations['address'] = stations['address'].str.lower()"
   ]
  },
  {
   "cell_type": "code",
   "execution_count": 66,
   "metadata": {},
   "outputs": [],
   "source": [
    "bart = json_data.merge(stations, on = 'address', how='inner')"
   ]
  },
  {
   "cell_type": "code",
   "execution_count": 84,
   "metadata": {},
   "outputs": [
    {
     "data": {
      "text/html": [
       "<div>\n",
       "<style scoped>\n",
       "    .dataframe tbody tr th:only-of-type {\n",
       "        vertical-align: middle;\n",
       "    }\n",
       "\n",
       "    .dataframe tbody tr th {\n",
       "        vertical-align: top;\n",
       "    }\n",
       "\n",
       "    .dataframe thead th {\n",
       "        text-align: right;\n",
       "    }\n",
       "</style>\n",
       "<table border=\"1\" class=\"dataframe\">\n",
       "  <thead>\n",
       "    <tr style=\"text-align: right;\">\n",
       "      <th></th>\n",
       "      <th>address</th>\n",
       "      <th>latitude</th>\n",
       "      <th>longitude</th>\n",
       "    </tr>\n",
       "  </thead>\n",
       "  <tbody>\n",
       "    <tr>\n",
       "      <th>0</th>\n",
       "      <td>10 union square, union city, ca 94587</td>\n",
       "      <td>37.5863</td>\n",
       "      <td>-122.017</td>\n",
       "    </tr>\n",
       "    <tr>\n",
       "      <th>1</th>\n",
       "      <td>11 camino pablo, orinda, ca 94563</td>\n",
       "      <td>37.8777</td>\n",
       "      <td>-122.182</td>\n",
       "    </tr>\n",
       "    <tr>\n",
       "      <th>2</th>\n",
       "      <td>1150 market street, san francisco, ca 94102</td>\n",
       "      <td>37.7791</td>\n",
       "      <td>-122.414</td>\n",
       "    </tr>\n",
       "    <tr>\n",
       "      <th>3</th>\n",
       "      <td>1151 huntington avenue, san bruno, ca 94066</td>\n",
       "      <td>37.6386</td>\n",
       "      <td>-122.417</td>\n",
       "    </tr>\n",
       "    <tr>\n",
       "      <th>4</th>\n",
       "      <td>1245 broadway, oakland, ca 94612</td>\n",
       "      <td>37.8033</td>\n",
       "      <td>-122.272</td>\n",
       "    </tr>\n",
       "  </tbody>\n",
       "</table>\n",
       "</div>"
      ],
      "text/plain": [
       "                                       address latitude longitude\n",
       "0        10 union square, union city, ca 94587  37.5863  -122.017\n",
       "1            11 camino pablo, orinda, ca 94563  37.8777  -122.182\n",
       "2  1150 market street, san francisco, ca 94102  37.7791  -122.414\n",
       "3  1151 huntington avenue, san bruno, ca 94066  37.6386  -122.417\n",
       "4             1245 broadway, oakland, ca 94612  37.8033  -122.272"
      ]
     },
     "execution_count": 84,
     "metadata": {},
     "output_type": "execute_result"
    }
   ],
   "source": [
    "bart[['address','latitude','longitude']].head()"
   ]
  },
  {
   "cell_type": "code",
   "execution_count": 85,
   "metadata": {},
   "outputs": [],
   "source": [
    "import numpy as np\n",
    "\n",
    "omaha_point = np.array((-95.995102, 41.257160))"
   ]
  },
  {
   "cell_type": "code",
   "execution_count": 87,
   "metadata": {},
   "outputs": [],
   "source": [
    "import pandas as pd\n",
    "from sklearn.neighbors import KDTree"
   ]
  },
  {
   "cell_type": "code",
   "execution_count": 88,
   "metadata": {},
   "outputs": [
    {
     "name": "stdout",
     "output_type": "stream",
     "text": [
      "33144\n"
     ]
    },
    {
     "data": {
      "text/html": [
       "<div>\n",
       "<style scoped>\n",
       "    .dataframe tbody tr th:only-of-type {\n",
       "        vertical-align: middle;\n",
       "    }\n",
       "\n",
       "    .dataframe tbody tr th {\n",
       "        vertical-align: top;\n",
       "    }\n",
       "\n",
       "    .dataframe thead th {\n",
       "        text-align: right;\n",
       "    }\n",
       "</style>\n",
       "<table border=\"1\" class=\"dataframe\">\n",
       "  <thead>\n",
       "    <tr style=\"text-align: right;\">\n",
       "      <th></th>\n",
       "      <th>GEOID</th>\n",
       "      <th>INTPTLAT</th>\n",
       "      <th>INTPTLONG</th>\n",
       "    </tr>\n",
       "  </thead>\n",
       "  <tbody>\n",
       "    <tr>\n",
       "      <th>0</th>\n",
       "      <td>00601</td>\n",
       "      <td>18.180555</td>\n",
       "      <td>-66.749961</td>\n",
       "    </tr>\n",
       "    <tr>\n",
       "      <th>1</th>\n",
       "      <td>00602</td>\n",
       "      <td>18.361945</td>\n",
       "      <td>-67.175597</td>\n",
       "    </tr>\n",
       "    <tr>\n",
       "      <th>2</th>\n",
       "      <td>00603</td>\n",
       "      <td>18.455183</td>\n",
       "      <td>-67.119887</td>\n",
       "    </tr>\n",
       "    <tr>\n",
       "      <th>3</th>\n",
       "      <td>00606</td>\n",
       "      <td>18.158345</td>\n",
       "      <td>-66.932911</td>\n",
       "    </tr>\n",
       "    <tr>\n",
       "      <th>4</th>\n",
       "      <td>00610</td>\n",
       "      <td>18.295366</td>\n",
       "      <td>-67.125135</td>\n",
       "    </tr>\n",
       "  </tbody>\n",
       "</table>\n",
       "</div>"
      ],
      "text/plain": [
       "   GEOID   INTPTLAT  INTPTLONG\n",
       "0  00601  18.180555 -66.749961\n",
       "1  00602  18.361945 -67.175597\n",
       "2  00603  18.455183 -67.119887\n",
       "3  00606  18.158345 -66.932911\n",
       "4  00610  18.295366 -67.125135"
      ]
     },
     "execution_count": 88,
     "metadata": {},
     "output_type": "execute_result"
    }
   ],
   "source": [
    "url = 'http://www2.census.gov/geo/docs/maps-data/data/gazetteer/2016_Gazetteer/2016_Gaz_zcta_national.zip'\n",
    "df_locations = pd.read_csv(url, dtype={'GEOID' : 'str'},sep='\\t', usecols=[0,5,6])\n",
    "df_locations.columns = df_locations.columns.str.strip()  #some column cleanup\n",
    "print (len(df_locations))\n",
    "df_locations.head()"
   ]
  },
  {
   "cell_type": "code",
   "execution_count": 89,
   "metadata": {},
   "outputs": [],
   "source": [
    "kdt = KDTree(df_locations[['INTPTLONG', 'INTPTLAT']])"
   ]
  },
  {
   "cell_type": "code",
   "execution_count": 90,
   "metadata": {},
   "outputs": [
    {
     "name": "stdout",
     "output_type": "stream",
     "text": [
      "23609    68132\n",
      "Name: GEOID, dtype: object\n"
     ]
    }
   ],
   "source": [
    "omaha_point_kdt = np.expand_dims(omaha_point, axis=0)\n",
    "\n",
    "nearest_point_index = kdt.query(omaha_point_kdt, k=1, return_distance=False)\n",
    "print(df_locations.loc[nearest_point_index[0], 'GEOID'])"
   ]
  },
  {
   "cell_type": "code",
   "execution_count": 94,
   "metadata": {},
   "outputs": [
    {
     "ename": "ImportError",
     "evalue": "No module named geopandas",
     "output_type": "error",
     "traceback": [
      "\u001b[0;31m---------------------------------------------------------------------------\u001b[0m",
      "\u001b[0;31mImportError\u001b[0m                               Traceback (most recent call last)",
      "\u001b[0;32m<ipython-input-94-482a5136ff10>\u001b[0m in \u001b[0;36m<module>\u001b[0;34m()\u001b[0m\n\u001b[0;32m----> 1\u001b[0;31m \u001b[0;32mimport\u001b[0m \u001b[0mgeopandas\u001b[0m \u001b[0;32mas\u001b[0m \u001b[0mgpd\u001b[0m\u001b[0;34m\u001b[0m\u001b[0m\n\u001b[0m\u001b[1;32m      2\u001b[0m \u001b[0;32mfrom\u001b[0m \u001b[0mshapely\u001b[0m\u001b[0;34m.\u001b[0m\u001b[0mgeometry\u001b[0m \u001b[0;32mimport\u001b[0m \u001b[0mPoint\u001b[0m\u001b[0;34m\u001b[0m\u001b[0m\n",
      "\u001b[0;31mImportError\u001b[0m: No module named geopandas"
     ]
    }
   ],
   "source": [
    "import geopandas as gpd\n",
    "from shapely.geometry import Point"
   ]
  },
  {
   "cell_type": "code",
   "execution_count": 95,
   "metadata": {},
   "outputs": [
    {
     "name": "stdout",
     "output_type": "stream",
     "text": [
      "Collecting geopandas\n",
      "  Using cached https://files.pythonhosted.org/packages/24/11/d77c157c16909bd77557d00798b05a5b6615ed60acb5900fbe6a65d35e93/geopandas-0.4.0-py2.py3-none-any.whl\n",
      "Collecting shapely\n",
      "  Using cached https://files.pythonhosted.org/packages/73/44/feb112a6fe682bfbdbe707d470fb46a958bb3923c2d4ea74acbbd852936d/Shapely-1.6.4.post2-cp27-cp27m-macosx_10_9_x86_64.whl\n",
      "Requirement already satisfied: pandas in /anaconda3/envs/python27/lib/python2.7/site-packages (from geopandas) (0.23.4)\n",
      "Collecting fiona (from geopandas)\n",
      "  Using cached https://files.pythonhosted.org/packages/af/51/72e16c1506c8f71cf57db355b17e8eeca0ea1455a0aca09d11cf3d40b2af/Fiona-1.8.4-cp27-cp27m-macosx_10_6_intel.macosx_10_9_intel.macosx_10_9_x86_64.macosx_10_10_intel.macosx_10_10_x86_64.whl\n",
      "Collecting pyproj (from geopandas)\n",
      "  Using cached https://files.pythonhosted.org/packages/29/72/5c1888c4948a0c7b736d10e0f0f69966e7c0874a660222ed0a2c2c6daa9f/pyproj-1.9.5.1.tar.gz\n",
      "    Complete output from command python setup.py egg_info:\n",
      "    xcrun: error: active developer path (\"/Applications/Xcode.app/Contents/Developer\") does not exist\n",
      "    Use `sudo xcode-select --switch path/to/Xcode.app` to specify the Xcode that you wish to use for command line developer tools, or use `xcode-select --install` to install the standalone command line developer tools.\n",
      "    See `man xcode-select` for more details.\n",
      "    using bundled proj4..\n",
      "    Traceback (most recent call last):\n",
      "      File \"<string>\", line 1, in <module>\n",
      "      File \"/private/var/folders/nn/chv0mpnn4x95mr6fj3y6h5y40000gp/T/pip-install-moz0Hn/pyproj/setup.py\", line 72, in <module>\n",
      "        objects = cc.compile(['nad2bin.c', 'src/pj_malloc.c'])\n",
      "      File \"/anaconda3/envs/python27/lib/python2.7/distutils/ccompiler.py\", line 574, in compile\n",
      "        self._compile(obj, src, ext, cc_args, extra_postargs, pp_opts)\n",
      "      File \"/anaconda3/envs/python27/lib/python2.7/distutils/unixccompiler.py\", line 124, in _compile\n",
      "        raise CompileError, msg\n",
      "    distutils.errors.CompileError: command 'gcc' failed with exit status 1\n",
      "    \n",
      "    ----------------------------------------\n"
     ]
    },
    {
     "name": "stderr",
     "output_type": "stream",
     "text": [
      "Command \"python setup.py egg_info\" failed with error code 1 in /private/var/folders/nn/chv0mpnn4x95mr6fj3y6h5y40000gp/T/pip-install-moz0Hn/pyproj/\n"
     ]
    }
   ],
   "source": [
    "%%bash\n",
    "pip install geopandas shapely"
   ]
  },
  {
   "cell_type": "code",
   "execution_count": null,
   "metadata": {},
   "outputs": [],
   "source": []
  }
 ],
 "metadata": {
  "kernelspec": {
   "display_name": "Python 3",
   "language": "python",
   "name": "python3"
  },
  "language_info": {
   "codemirror_mode": {
    "name": "ipython",
    "version": 3
   },
   "file_extension": ".py",
   "mimetype": "text/x-python",
   "name": "python",
   "nbconvert_exporter": "python",
   "pygments_lexer": "ipython3",
   "version": "3.6.7"
  }
 },
 "nbformat": 4,
 "nbformat_minor": 2
}
